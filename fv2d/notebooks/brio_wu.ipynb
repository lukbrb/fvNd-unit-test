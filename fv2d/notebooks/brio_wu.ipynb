{
 "cells": [
  {
   "cell_type": "markdown",
   "id": "94ed09c9",
   "metadata": {},
   "source": [
    "## Brio-Wu\n",
    "\n",
    "Avec ce premier problème nous souhaitons tester les solveurs `hlld` et `fivewaves` de `fv2d`, et les comparer aux solveurs hlld et Roe de Athena++. Mis à part les solveurs, nous utiliserons une grille de 512 points et une CFL de 0,4. La reconstruction spatiale utilisée par défaut sera une _PLM_, combinée à un schéma temporel _Runge-Kutta_ d'ordre 2. On note que la divergence de $\\vec{B}$ ne pose pas de problème en 1D et ne sera pas étudiée ici."
   ]
  },
  {
   "cell_type": "markdown",
   "id": "f6ac3712",
   "metadata": {},
   "source": [
    "### Problem Set Up"
   ]
  },
  {
   "cell_type": "code",
   "execution_count": null,
   "id": "76211ea1",
   "metadata": {},
   "outputs": [],
   "source": [
    "from datahandler import Fv2dCode, AthenaCode, IniFile\n",
    "from pathlib import Path\n",
    "home = Path().home() / \"Documents\""
   ]
  },
  {
   "cell_type": "code",
   "execution_count": null,
   "id": "107e4e13",
   "metadata": {},
   "outputs": [],
   "source": [
    "ini_file = IniFile(home/\"fv2d/settings/mhd_sod_x.ini\")\n",
    "ini_file.set_param(\"mesh\", \"Nx\", 512)\n",
    "ini_file.set_param(\"solvers\", \"CFL\", 0.4)\n",
    "ini_file.set_param(\"physics\", \"gamma0\", 2.0)\n",
    "\n",
    "# HLLD solver + RK2\n",
    "ini_file.set_param(\"solvers\", \"riemann_solver\", \"hlld\")\n",
    "ini_file.write(\"brio_wu.ini\")\n",
    "\n",
    "# HLLD solver + RK2 without div cleaning\n",
    "ini_file.set_param(\"solvers\", \"riemann_solver\", \"hlld\")\n",
    "ini_file.set_param(\"solvers\", \"div_cleaning\", \"none\")\n",
    "ini_file.write(\"brio_wu_nodc.ini\")\n",
    "\n",
    "# Five waves solver + RK2 and div cleaning\n",
    "ini_file.set_param(\"solvers\", \"riemann_solver\", \"fivewaves\")\n",
    "ini_file.write(\"brio_wu_5w.ini\")\n",
    "\n",
    "# Five waves solver + Euler time stepping and div cleaning\n",
    "ini_file.set_param(\"solvers\", \"riemann_solver\", \"fivewaves\")\n",
    "ini_file.set_param(\"solvers\", \"time_stepping\", \"euler\")\n",
    "ini_file.write(\"brio_wu_5w_euler.ini\")\n",
    "\n",
    "# HLLD solver + Euler time stepping\n",
    "ini_file.set_param(\"solvers\", \"riemann_solver\", \"hlld\")\n",
    "ini_file.set_param(\"solvers\", \"time_stepping\", \"euler\")\n",
    "ini_file.set_param(\"solvers\", \"div_cleaning\", \"none\")\n",
    "ini_file.write(\"brio_wu_euler.ini\")"
   ]
  },
  {
   "cell_type": "code",
   "execution_count": null,
   "id": "e71739fb",
   "metadata": {},
   "outputs": [],
   "source": [
    "# Compile and run the code\n",
    "fv2d = Fv2dCode(base_path=home/\"fv2d\")\n",
    "fv2d.compile()\n",
    "fv2d.run(inifile=\"brio_wu.ini\")\n",
    "fv2d.run(inifile=\"brio_wu_nodc.ini\")\n",
    "fv2d.run(inifile=\"brio_wu_5w.ini\")\n",
    "fv2d.run(inifile=\"brio_wu_5w_euler.ini\")\n",
    "fv2d.run(inifile=\"brio_wu_euler.ini\")\n"
   ]
  },
  {
   "cell_type": "code",
   "execution_count": null,
   "id": "39d70bf1",
   "metadata": {},
   "outputs": [],
   "source": [
    "athena = AthenaCode(home/\"athena\")\n",
    "ini_file = IniFile(home/\"athena/inputs/mhd/athinput.bw\", athena_fmt=True)\n",
    "ini_file.set_param(\"mesh\", \"nx1\", 512)\n",
    "ini_file.set_param(\"time\", \"cfl_number\", 0.4)\n",
    "ini_file.set_param(\"time\", \"tlim\", 0.2)\n",
    "ini_file.set_param(\"mesh\", \"x1max\", 1.0)\n",
    "ini_file.set_param(\"mesh\", \"x1min\", 0.0)\n",
    "ini_file.set_param(\"problem\", \"xshock\", 0.5) # position de l'interface initiale\n",
    "ini_file.write(\"athinput.bw\")\n",
    "athena.compile(ini_file)\n",
    "athena.run(inifile=\"athinput.bw\")"
   ]
  },
  {
   "cell_type": "markdown",
   "id": "1c2de460",
   "metadata": {},
   "source": [
    "### Data Analysis"
   ]
  },
  {
   "cell_type": "code",
   "execution_count": null,
   "id": "f5d1ee46",
   "metadata": {},
   "outputs": [],
   "source": [
    "import numpy as np\n",
    "import matplotlib.pyplot as plt\n",
    "from datahandler import AthenaTabular, Fv2DH5\n",
    "from pathlib import Path"
   ]
  },
  {
   "cell_type": "code",
   "execution_count": null,
   "id": "0cc86a5a",
   "metadata": {},
   "outputs": [],
   "source": [
    "athena_data_path = Path(\"athena_output\")\n",
    "athena_data_file = list(sorted(athena_data_path.glob(\"Brio-Wu.*.tab\")))[-1]\n",
    "athena_data = AthenaTabular(athena_data_file)"
   ]
  },
  {
   "cell_type": "code",
   "execution_count": null,
   "id": "3caa7394",
   "metadata": {},
   "outputs": [],
   "source": [
    "# hlld + RK2 Data\n",
    "fv2d_data_path = Path(\"fv2d_output\")\n",
    "fv2d_data = Fv2DH5(fv2d_data_path/\"run_brio_wu.h5\", reshape=True)\n",
    "fv2d_data_5w = Fv2DH5(fv2d_data_path/\"run_brio_wu_5w.h5\", reshape=True) # fv2d outputs are 2D; we select only a slice along x\n",
    "fv2d_data_5we = Fv2DH5(fv2d_data_path/\"run_brio_wu_5w_euler.h5\", reshape=True) # fv2d outputs are 2D; we select only a slice along x\n",
    "fv2d_data_e = Fv2DH5(fv2d_data_path/\"run_brio_wu_euler.h5\", reshape=True) # fv2d outputs are 2D; we select only a slice along x\n",
    "fv2d_data_nodc = Fv2DH5(fv2d_data_path/\"run_brio_wu_nodc.h5\", reshape=True) # fv2d outputs are 2D; we select only a slice along x"
   ]
  },
  {
   "cell_type": "code",
   "execution_count": null,
   "id": "7a92f56a",
   "metadata": {},
   "outputs": [],
   "source": [
    "def plot_attrs(attr, *, longname=None, title=\"Brio-Wu Test\") -> None:\n",
    "    \"\"\" Plot the given attribute for all the data sets.\n",
    "    Parameters\n",
    "    ----------\n",
    "    attr : str\n",
    "        The attribute to plot.\n",
    "    longname : str\n",
    "        The long name of the attribute to plot, used for the $y$-axis.\n",
    "        If None, the attribute name will be used.\n",
    "    \"\"\"\n",
    "    plt.figure(figsize=(10, 10))\n",
    "    plt.plot(athena_data.x, getattr(athena_data, attr), '--k', label=\"Athena-hlld\")\n",
    "    plt.plot(fv2d_data.x, getattr(fv2d_data, attr), '--', label=\"FV2D-hlld-RK2\")\n",
    "    plt.plot(fv2d_data_5w.x, getattr(fv2d_data_5w, attr), '--', label=\"FV2D-5waves-RK2\")\n",
    "    plt.plot(fv2d_data_5we.x, getattr(fv2d_data_5we, attr), '--', label=\"FV2D-5waves-Euler\")\n",
    "    plt.plot(fv2d_data_e.x, getattr(fv2d_data_e, attr), '--', label=\"FV2D-hlld-Euler\")\n",
    "    plt.plot(fv2d_data_nodc.x, getattr(fv2d_data_nodc, attr), '--', label=\"FV2D-hlld-noDC\")\n",
    "    plt.title(title)\n",
    "    if longname is not None:\n",
    "        plt.ylabel(longname)\n",
    "    else:\n",
    "        plt.ylabel(attr)\n",
    "    plt.xlabel(\"x\")\n",
    "    plt.legend()\n",
    "    plt.grid()\n",
    "    plt.show()"
   ]
  },
  {
   "cell_type": "code",
   "execution_count": null,
   "id": "ac5a318a",
   "metadata": {},
   "outputs": [],
   "source": [
    "plot_attrs(\"rho\", longname=r\"$\\rho$\")\n",
    "plot_attrs(\"u\", longname=r\"$v_x$\")\n",
    "plot_attrs(\"v\", longname=r\"$v_y$\")\n",
    "plot_attrs(\"p\", longname=r\"$P$\")\n",
    "# plot_attrs(\"Bx\", longname=r\"$B_x$\")\n",
    "plot_attrs(\"By\", longname=r\"$B_y$\")\n",
    "# plot_attrs(\"Bz\", longname=r\"$B_z$\")"
   ]
  },
  {
   "cell_type": "markdown",
   "id": "e5484ecd",
   "metadata": {},
   "source": [
    "### Error Analysis"
   ]
  },
  {
   "cell_type": "code",
   "execution_count": null,
   "id": "70a7f95b",
   "metadata": {},
   "outputs": [],
   "source": [
    "from typing import Callable\n",
    "\n",
    "\n",
    "def absolute_error(y: np.ndarray, y_ref: np.ndarray) -> np.ndarray:\n",
    "    \"\"\" Compute the absolute error between two arrays.\n",
    "    Parameters\n",
    "    ----------\n",
    "    y : np.ndarray\n",
    "        The data to compare.\n",
    "    y_ref : np.ndarray\n",
    "        The reference data.\n",
    "    Returns\n",
    "    -------\n",
    "    np.ndarray\n",
    "        The absolute error between the two arrays.\n",
    "    \"\"\"\n",
    "    return np.abs(y - y_ref)\n",
    "\n",
    "\n",
    "def relative_error(y: np.ndarray, y_ref: np.ndarray, norm_ord=1) -> np.ndarray:\n",
    "    \"\"\" Compute the relative error between two arrays.\n",
    "    Parameters\n",
    "    ----------\n",
    "    y : np.ndarray\n",
    "        The data to compare.\n",
    "    y_ref : np.ndarray\n",
    "        The reference data.\n",
    "    Returns\n",
    "    -------\n",
    "    np.ndarray\n",
    "        The relative error between the two arrays.\n",
    "    \"\"\"\n",
    "    return np.abs(y - y_ref) / np.abs(y_ref)\n",
    "\n",
    "def plot_error(attr: str, *, longname: str=None, error_type: Callable = relative_error, norm_ord=2, scale='log') -> None:\n",
    "    \"\"\" Plot the error between the data sets.\n",
    "    Parameters\n",
    "    ----------\n",
    "    attr : str\n",
    "        The attribute to plot.\n",
    "    longname : str\n",
    "        The long name of the attribute to plot, used for the $y$-axis.\n",
    "        If None, the attribute name will be used.\n",
    "    error_type : Callable\n",
    "        The error function to use. Can be either absolute_error or relative_error.\n",
    "    norm_ord : int\n",
    "        The order of the norm to use. Default is 2.\n",
    "    \"\"\"\n",
    "\n",
    "    plt.figure(figsize=(10, 10))\n",
    "    e1 = error_type(getattr(fv2d_data, attr), getattr(athena_data, attr))\n",
    "    e2 = error_type(getattr(fv2d_data_5w, attr), getattr(athena_data, attr))\n",
    "    e3 = error_type(getattr(fv2d_data_5we, attr), getattr(athena_data, attr))\n",
    "    e4 = error_type(getattr(fv2d_data_e, attr), getattr(athena_data, attr))\n",
    "    e5 = error_type(getattr(fv2d_data_nodc, attr), getattr(athena_data, attr))\n",
    "    plt.plot(fv2d_data.x, e1, '--', label=f\"FV2D-hlld-RK2, L{norm_ord}-norm= {np.linalg.norm(e1, ord=norm_ord)/len(e1):.2e}\")\n",
    "    plt.plot(fv2d_data.x, e2, '--', label=f\"FV2D-5waves-RK2, L{norm_ord}-norm= {np.linalg.norm(e2, ord=norm_ord)/len(e2):.2e}\")\n",
    "    plt.plot(fv2d_data.x, e3, '--', label=f\"FV2D-5waves-Euler, L{norm_ord}-norm= {np.linalg.norm(e3, ord=norm_ord)/len(e3):.2e}\")\n",
    "    plt.plot(fv2d_data.x, e4, '--', label=f\"FV2D-hlld-Euler, L{norm_ord}-norm= {np.linalg.norm(e4, ord=norm_ord)/len(e4):.2e}\")\n",
    "    plt.plot(fv2d_data.x, e5, '--', label=f\"FV2D-hlld-noDC, L{norm_ord}-norm= {np.linalg.norm(e5, ord=norm_ord)/len(e5):.2e}\")\n",
    "    plt.title(\"Brio-Wu Test\")\n",
    "    plt.ylim(1e-6, 1e0)\n",
    "    if longname is not None:\n",
    "        plt.ylabel(longname)\n",
    "    else:\n",
    "        plt.ylabel(attr)\n",
    "    plt.xlabel(\"x\")\n",
    "    plt.yscale(scale)\n",
    "    plt.legend()\n",
    "    plt.grid()\n",
    "    plt.show()\n"
   ]
  },
  {
   "cell_type": "code",
   "execution_count": null,
   "id": "4290eb7f",
   "metadata": {},
   "outputs": [],
   "source": [
    "plot_error(\"rho\", longname=r\"$\\rho$\", error_type=absolute_error)\n",
    "plot_error(\"u\", longname=r\"$v_x$\", error_type=absolute_error)\n",
    "plot_error(\"v\", longname=r\"$v_y$\", error_type=absolute_error)\n",
    "plot_error(\"p\", longname=r\"$P$\", error_type=absolute_error)\n",
    "plot_error(\"By\", longname=r\"$B_y$\", error_type=absolute_error)"
   ]
  },
  {
   "cell_type": "markdown",
   "id": "0768ff1e",
   "metadata": {},
   "source": [
    "### Convergence Analysis\n",
    "\n",
    "Le but est ici de tester la convergence de nos différents solveurs selon la taille du maillage, i.e. le nombre de cellules. Nous choissisons de tester chaque solveurs pour les valeurs suivantes $Nx=32, 64, 128 , 256, 512$"
   ]
  },
  {
   "cell_type": "code",
   "execution_count": null,
   "id": "7ee7d659",
   "metadata": {},
   "outputs": [],
   "source": [
    "from datahandler import Fv2dCode, IniFile, AthenaCode\n",
    "from pathlib import Path\n",
    "home = Path().home() / \"Documents\""
   ]
  },
  {
   "cell_type": "code",
   "execution_count": null,
   "id": "ce67ace7",
   "metadata": {},
   "outputs": [],
   "source": [
    "# generate all the ini_files for the different tests\n",
    "original_ini = home/\"fv2d/settings/mhd_sod_x.ini\"\n",
    "athena_ini = home/\"athena/inputs/mhd/athinput.bw\"\n",
    "for solver in [\"hlld\", \"fivewaves\"]:\n",
    "    for time_stepping in [\"RK2\", \"euler\"]:\n",
    "        for i in range(5, 10):\n",
    "            new_ini = f\"brio_wu_{2**i:04d}_{solver}_{time_stepping}.ini\"\n",
    "            ini = IniFile(original_ini)\n",
    "            ini.set_param(\"mesh\", \"Nx\", 2**i)\n",
    "            ini.set_param(\"solvers\", \"riemann_solver\", solver)\n",
    "            ini.set_param(\"solvers\", \"time_stepping\", time_stepping)\n",
    "            ini.set_param(\"solvers\", \"div_cleaning\", \"none\")\n",
    "            ini.set_param(\"solvers\", \"CFL\", 0.4)\n",
    "            ini.set_param(\"physics\", \"gamma0\", 2.0)\n",
    "            ini.write(new_ini)\n",
    "            at_ini = IniFile(athena_ini, athena_fmt=True)\n",
    "            at_ini.set_param(\"mesh\", \"nx1\", 2**i)\n",
    "            at_ini.set_param(\"time\", \"cfl_number\", 0.4)\n",
    "            at_ini.set_param(\"time\", \"tlim\", 0.2)\n",
    "            at_ini.write(f\"athinput_{2**i:04d}.bw\")"
   ]
  },
  {
   "cell_type": "code",
   "execution_count": null,
   "id": "b0c4932d",
   "metadata": {},
   "outputs": [],
   "source": [
    "# Here we assume (we know) that the fv2d code is already compiled\n",
    "# and that the athena code is already compiled\n",
    "ath_output = Path('athena_output')\n",
    "for item in Path().glob(\"athinput_*.bw\"):\n",
    "    athena = AthenaCode(home/\"athena\")\n",
    "    this_output = ath_output / item.stem.replace(\"athinput_\", \"\")\n",
    "    this_output.mkdir(exist_ok=True, parents=True)\n",
    "    athena.run(inifile=item.name, destination=this_output)"
   ]
  },
  {
   "cell_type": "code",
   "execution_count": null,
   "id": "f9fa9f9b",
   "metadata": {},
   "outputs": [],
   "source": [
    "fv2d = Fv2dCode(base_path=home/\"fv2d\")\n",
    "# fv2d.compile()\n",
    "fv2d_output = Path('fv2d_output')\n",
    "with open('fv2d.log', 'w') as f:\n",
    "    f.write(\"FV2D runs\\n\")\n",
    "\n",
    "files = list(sorted(Path().glob(\"brio_wu_*.ini\")))\n",
    "for i, item in enumerate(files):\n",
    "    with open('fv2d.log', 'a') as f:\n",
    "        f.write(f\"[{i+1}/{len(files)}] - Run {item.name} started\\n\")\n",
    "    nx = item.stem.split(\"_\")[2]\n",
    "    this_output = fv2d_output / nx\n",
    "    this_output.mkdir(exist_ok=True, parents=True)\n",
    "    fv2d.run(inifile=item.name, destination=this_output)\n",
    "    with open('fv2d.log', 'a') as f:\n",
    "        f.write(f\"[{i+1}/{len(files)}] - Run {item.name} finished\\n\")"
   ]
  },
  {
   "cell_type": "code",
   "execution_count": null,
   "id": "565cba18",
   "metadata": {},
   "outputs": [],
   "source": [
    "from datahandler import Fv2DH5, AthenaTabular\n",
    "import numpy as np\n",
    "import matplotlib.pyplot as plt"
   ]
  },
  {
   "cell_type": "code",
   "execution_count": null,
   "id": "f8a5cc07",
   "metadata": {},
   "outputs": [],
   "source": [
    "athena_data = {}\n",
    "fv2d_data = {}\n",
    "errors = {\"-\".join(algo.split('_')[:-1]): [] for algo in fv2d_data}\n",
    "for i in range(5, 10):\n",
    "    dirname = Path(\"athena_output\") / f\"{2**i:04d}\"\n",
    "    item = list(sorted(dirname.glob(\"Brio-Wu.*.tab\")))[-1]\n",
    "    athena_data[f\"{2**i:04d}\"] = AthenaTabular(item)\n",
    "    athena_data[f\"{2**i:04d}\"].rescale() # by default on AThena is [-0.5, 0.5] and on fv2d is [0, 1]\n",
    "    item = list(sorted(Path(f\"fv2d_output/{2**i:04d}\").glob(\"run_brio_wu_*.h5\")))\n",
    "    fv2d_data[f\"{2**i:04d}\"] = [(str(it.stem), Fv2DH5(it, reshape=True)) for it in item]"
   ]
  },
  {
   "cell_type": "code",
   "execution_count": null,
   "id": "c5a86c1d",
   "metadata": {},
   "outputs": [],
   "source": [
    "errors = {\"-\".join(algo[0].split('_')[-2:]):[] for algo in list(fv2d_data.values())[0]}\n",
    "for i in range(5, 10):\n",
    "    nx = f\"{2**i:04d}\"\n",
    "    for algo, val in fv2d_data[nx]:\n",
    "        algo = \"-\".join(algo.split('_')[-2:]) # on veut rassembler les algo\n",
    "        err = np.linalg.norm(val.rho - athena_data[nx].rho, ord=2)/int(nx)\n",
    "        errors[algo].append(err)"
   ]
  },
  {
   "cell_type": "code",
   "execution_count": null,
   "id": "6c2b4b5b",
   "metadata": {},
   "outputs": [],
   "source": [
    "plt.figure(figsize=(10, 10))\n",
    "nx_values = np.array([2**i for i in range(5, 10)])\n",
    "for algo, err in errors.items():\n",
    "    m, b = np.polyfit(np.log(nx_values), np.log(err), deg=1)\n",
    "    plt.plot(nx_values, err, '--o', label=fr\"{algo}: $\\log(err)={m:.2f}N_x{b:.2f}$\")\n",
    "plt.title(\"Brio-Wu Test: Error Convergence\")\n",
    "\n",
    "O_x = errors[\"fivewaves-RK2\"][0] * (nx_values[0] / nx_values)\n",
    "O_x2 = errors[\"fivewaves-RK2\"][0] * (nx_values[0] / nx_values)**2  \n",
    "plt.plot(nx_values, O_x, ':', label=r\"$\\mathcal{O}(\\Delta x)$\")\n",
    "plt.plot(nx_values, O_x2, ':', label=r\"$\\mathcal{O}(\\Delta x^2)$\")\n",
    "\n",
    "plt.text(nx_values[-1], O_x2[-1], r\"$\\Delta x^2$\", fontsize=12)\n",
    "plt.text(nx_values[-1], O_x[-1], r\"$\\Delta x$\", fontsize=12)\n",
    "plt.xscale('log')\n",
    "plt.yscale('log')\n",
    "plt.xlabel(r\"$N_x$\")\n",
    "plt.ylabel(r\"$L^2$ error\")\n",
    "plt.legend()\n",
    "plt.grid()\n",
    "plt.show()"
   ]
  }
 ],
 "metadata": {
  "kernelspec": {
   "display_name": "Python 3 (ipykernel)",
   "language": "python",
   "name": "python3"
  },
  "language_info": {
   "codemirror_mode": {
    "name": "ipython",
    "version": 3
   },
   "file_extension": ".py",
   "mimetype": "text/x-python",
   "name": "python",
   "nbconvert_exporter": "python",
   "pygments_lexer": "ipython3",
   "version": "3.13.1"
  }
 },
 "nbformat": 4,
 "nbformat_minor": 5
}
