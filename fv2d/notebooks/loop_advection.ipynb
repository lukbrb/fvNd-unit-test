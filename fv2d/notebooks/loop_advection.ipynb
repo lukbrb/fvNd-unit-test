{
 "cells": [
  {
   "cell_type": "code",
   "execution_count": null,
   "id": "96b12243-1056-4364-99eb-73d96f43d01b",
   "metadata": {},
   "outputs": [],
   "source": [
    "import h5py\n",
    "from pathlib import Path\n",
    "from datahandler import Fv2DH5"
   ]
  },
  {
   "cell_type": "code",
   "execution_count": null,
   "id": "3c5e7f72-ff51-48a2-9e07-94e7d2b0841a",
   "metadata": {},
   "outputs": [],
   "source": [
    "filepath = Path('../loop-advection/LA_512') / 'run.h5'"
   ]
  },
  {
   "cell_type": "code",
   "execution_count": null,
   "id": "5116d013-21f1-4178-9815-eedb926ecc98",
   "metadata": {},
   "outputs": [],
   "source": [
    "data = Fv2DH5(filepath, dim=2)"
   ]
  },
  {
   "cell_type": "code",
   "execution_count": null,
   "id": "67aaacb4-6153-47ef-9890-410d1188fad7",
   "metadata": {},
   "outputs": [],
   "source": [
    "import matplotlib.pyplot as plt"
   ]
  },
  {
   "cell_type": "code",
   "execution_count": null,
   "id": "608154b5-697f-4067-965d-0abc9b152918",
   "metadata": {},
   "outputs": [],
   "source": [
    "data.get_iteration(20)\n",
    "fig, ax = plt.subplots(2, 2, figsize=(10, 10))\n",
    "\n",
    "im0 = ax[0, 0].imshow(data.rho)\n",
    "ax[0, 0].set_title('Density')\n",
    "fig.colorbar(im0, ax=ax[0, 0], fraction=0.046, pad=0.04)\n",
    "\n",
    "im1 = ax[0, 1].imshow(data.p)\n",
    "ax[0, 1].set_title('Pressure')\n",
    "fig.colorbar(im1, ax=ax[0, 1], fraction=0.046, pad=0.04)\n",
    "\n",
    "im2 = ax[1, 0].imshow((data.Bx**2 + data.By**2)**0.5)\n",
    "ax[1, 0].set_title(r'$\\sqrt{B_x^2 + B_y^2}$')\n",
    "fig.colorbar(im2, ax=ax[1, 0], fraction=0.046, pad=0.04)\n",
    "\n",
    "im3 = ax[1, 1].imshow(data.divB)\n",
    "ax[1, 1].set_title(r'$\\nabla \\cdot \\vec{B}$')\n",
    "fig.colorbar(im3, ax=ax[1, 1], fraction=0.046, pad=0.04)\n",
    "\n",
    "plt.tight_layout()\n",
    "plt.show()"
   ]
  },
  {
   "cell_type": "code",
   "execution_count": null,
   "id": "c54ebc82-e407-426f-ab29-dfa092534edf",
   "metadata": {},
   "outputs": [],
   "source": []
  }
 ],
 "metadata": {
  "kernelspec": {
   "display_name": "Python 3 (ipykernel)",
   "language": "python",
   "name": "python3"
  },
  "language_info": {
   "codemirror_mode": {
    "name": "ipython",
    "version": 3
   },
   "file_extension": ".py",
   "mimetype": "text/x-python",
   "name": "python",
   "nbconvert_exporter": "python",
   "pygments_lexer": "ipython3",
   "version": "3.13.1"
  }
 },
 "nbformat": 4,
 "nbformat_minor": 5
}
