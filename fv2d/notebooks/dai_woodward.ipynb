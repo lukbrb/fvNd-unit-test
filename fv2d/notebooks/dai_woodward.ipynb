{
 "cells": [
  {
   "cell_type": "markdown",
   "id": "94ed09c9",
   "metadata": {},
   "source": [
    "## Day and Woodward\n",
    "\n",
    "Avec ce problème nous étudions les solveurs `hlld` et `fivewaves` de `fv2d`, et les comparons au solveur `hlld` de Athena++, combiné à un intégrateur Van Leer de second ordre. Mis à part les solveurs, nous utiliserons une grille de 512 points et une CFL de 0,4. La reconstruction spatiale utilisée par défaut sera une _PLM_, combinée à un schéma temporel _Runge-Kutta_ d'ordre 2. On note que la divergence de $\\vec{B}$ ne pose pas de problème en 1D et ne sera pas étudiée ici.\n",
    "```\n",
    "    const real_t B0 = 1.0 / std::sqrt(4 * M_PI);\n",
    "\n",
    "    if (x < midbox) {\n",
    "      Q(j, i, IR) = 1.08;\n",
    "      Q(j, i, IU) = 1.2;\n",
    "      Q(j, i, IV) = 0.01;\n",
    "      Q(j, i, IW) = 0.5;\n",
    "      Q(j, i, IP) = 0.95;\n",
    "      Q(j, i, IBX) = B0 * 4.0;\n",
    "      Q(j, i, IBY) = B0 * 3.6;\n",
    "      Q(j, i, IBZ) = B0 * 2.0;\n",
    "    }\n",
    "    else {\n",
    "      Q(j, i, IR) = 1.0;\n",
    "      Q(j, i, IU) = 0.0;\n",
    "      Q(j, i, IV) = 0.0;\n",
    "      Q(j, i, IW) = 0.0;\n",
    "      Q(j, i, IP) = 1.0;\n",
    "      Q(j, i, IBX) = B0 * 4.0;\n",
    "      Q(j, i, IBY) = B0 * 4.0;\n",
    "      Q(j, i, IBZ) = B0 * 2.0;\n",
    "```"
   ]
  },
  {
   "cell_type": "code",
   "execution_count": null,
   "id": "776e1b9d-2765-42dd-830c-1c374a797e32",
   "metadata": {},
   "outputs": [],
   "source": [
    "print(b0*4)\n",
    "print(b0*3.6)\n",
    "print(b0*2)"
   ]
  },
  {
   "cell_type": "markdown",
   "id": "f6ac3712",
   "metadata": {},
   "source": [
    "### Problem Set Up"
   ]
  },
  {
   "cell_type": "code",
   "execution_count": null,
   "id": "76211ea1",
   "metadata": {},
   "outputs": [],
   "source": [
    "from datahandler import Fv2dCode, AthenaCode, IniFile\n",
    "from pathlib import Path\n",
    "home = Path().home() / \"Documents\""
   ]
  },
  {
   "cell_type": "code",
   "execution_count": null,
   "id": "12ad11cf-5354-495f-b896-a7cfe35fe9da",
   "metadata": {},
   "outputs": [],
   "source": [
    "problem_name = \"dai_woodward\""
   ]
  },
  {
   "cell_type": "code",
   "execution_count": null,
   "id": "107e4e13",
   "metadata": {},
   "outputs": [],
   "source": [
    "ini_file = IniFile(home/f\"fv2d/settings/{problem_name}.ini\")\n",
    "ini_file.set_param(\"mesh\", \"Nx\", 512)\n",
    "ini_file.set_param(\"mesh\", \"Ny\", 10)\n",
    "ini_file.set_param(\"solvers\", \"CFL\", 0.4)\n",
    "ini_file.set_param(\"physics\", \"gamma0\", 5/3)\n",
    "\n",
    "# HLLD solver + RK2\n",
    "ini_file.set_param(\"solvers\", \"riemann_solver\", \"hlld\")\n",
    "ini_file.write(f\"{problem_name}_dc.ini\")\n",
    "\n",
    "# HLLD solver + RK2 without div cleaning\n",
    "ini_file.set_param(\"solvers\", \"riemann_solver\", \"hlld\")\n",
    "ini_file.set_param(\"solvers\", \"div_cleaning\", \"none\")\n",
    "ini_file.write(f\"{problem_name}_nodc.ini\")\n",
    "\n",
    "# Five waves solver + RK2 and div cleaning\n",
    "ini_file.set_param(\"solvers\", \"riemann_solver\", \"fivewaves\")\n",
    "ini_file.write(f\"{problem_name}_5w.ini\")\n",
    "\n",
    "# Five waves solver + Euler time stepping and div cleaning\n",
    "ini_file.set_param(\"solvers\", \"riemann_solver\", \"fivewaves\")\n",
    "ini_file.set_param(\"solvers\", \"time_stepping\", \"euler\")\n",
    "ini_file.write(f\"{problem_name}_5w_euler.ini\")\n",
    "\n",
    "# HLLD solver + Euler time stepping\n",
    "ini_file.set_param(\"solvers\", \"riemann_solver\", \"hlld\")\n",
    "ini_file.set_param(\"solvers\", \"time_stepping\", \"euler\")\n",
    "ini_file.set_param(\"solvers\", \"div_cleaning\", \"none\")\n",
    "ini_file.write(f\"{problem_name}_euler.ini\")"
   ]
  },
  {
   "cell_type": "code",
   "execution_count": null,
   "id": "e71739fb",
   "metadata": {},
   "outputs": [],
   "source": [
    "# Compile and run the code\n",
    "fv2d = Fv2dCode(base_path=home/\"fv2d\")\n",
    "#fv2d.compile()\n",
    "fv2d.run(inifile=f\"{problem_name}_dc.ini\")\n",
    "fv2d.run(inifile=f\"{problem_name}_nodc.ini\")\n",
    "fv2d.run(inifile=f\"{problem_name}_5w.ini\")\n",
    "fv2d.run(inifile=f\"{problem_name}_5w_euler.ini\")\n",
    "fv2d.run(inifile=f\"{problem_name}_euler.ini\")"
   ]
  },
  {
   "cell_type": "code",
   "execution_count": null,
   "id": "39d70bf1",
   "metadata": {},
   "outputs": [],
   "source": [
    "ini_file = IniFile(home/\"athena/inputs/mhd/athinput.rj2a\", athena_fmt=True)\n",
    "ini_file.set_param(\"mesh\", \"nx1\", 512)\n",
    "ini_file.set_param(\"time\", \"cfl_number\", 0.4)\n",
    "ini_file.set_param(\"time\", \"tlim\", 0.2)\n",
    "ini_file.set_param(\"mesh\", \"x1max\", 1.1)\n",
    "ini_file.set_param(\"mesh\", \"x1min\", 0.0)\n",
    "ini_file.set_param(\"problem\", \"xshock\", 0.55) # position de l'interface initiale\n",
    "b0 = 1/np.sqrt(4*np.pi)\n",
    "ini_file.set_param(\"problem\", \"bxl\", f\"{b0*4:.16f}\") # athena prend b0*2 pour Bx\n",
    "ini_file.set_param(\"problem\", \"bxr\", f\"{b0*4:.16f}\")\n",
    "ini_file.set_param(\"job\", \"problem_id\", \"DaiWoodward\")\n",
    "ini_file.write(\"athinput.rj2a\")"
   ]
  },
  {
   "cell_type": "code",
   "execution_count": null,
   "id": "8f36f73b-5738-4c78-bbbc-2e8ea577aa98",
   "metadata": {},
   "outputs": [],
   "source": [
    "athena = AthenaCode(home/\"athena\")\n",
    "athena.compile(ini_file)\n",
    "athena.run(inifile=\"athinput.rj2a\")"
   ]
  },
  {
   "cell_type": "markdown",
   "id": "1c2de460",
   "metadata": {},
   "source": [
    "### Data Analysis"
   ]
  },
  {
   "cell_type": "code",
   "execution_count": null,
   "id": "f5d1ee46",
   "metadata": {},
   "outputs": [],
   "source": [
    "import numpy as np\n",
    "import matplotlib.pyplot as plt\n",
    "from datahandler import AthenaTabular, Fv2DH5\n",
    "from pathlib import Path"
   ]
  },
  {
   "cell_type": "code",
   "execution_count": null,
   "id": "0cc86a5a",
   "metadata": {},
   "outputs": [],
   "source": [
    "athena_data_path = Path(\"athena_output\")\n",
    "athena_data_file = list(sorted(athena_data_path.glob(\"*.tab\")))[-1]\n",
    "athena_data = AthenaTabular(athena_data_file)"
   ]
  },
  {
   "cell_type": "code",
   "execution_count": null,
   "id": "3caa7394",
   "metadata": {},
   "outputs": [],
   "source": [
    "# hlld + RK2 Data\n",
    "fv2d_data_path = Path(\"fv2d_output\")\n",
    "fv2d_data = Fv2DH5(fv2d_data_path/f\"run_{problem_name}_dc.h5\", reshape=True)\n",
    "fv2d_data_5w = Fv2DH5(fv2d_data_path/f\"run_{problem_name}_5w.h5\", reshape=True) # fv2d outputs are 2D; we select only a slice along x\n",
    "fv2d_data_5we = Fv2DH5(fv2d_data_path/f\"run_{problem_name}_5w_euler.h5\", reshape=True) # fv2d outputs are 2D; we select only a slice along x\n",
    "fv2d_data_e = Fv2DH5(fv2d_data_path/f\"run_{problem_name}_euler.h5\", reshape=True) # fv2d outputs are 2D; we select only a slice along x\n",
    "fv2d_data_nodc = Fv2DH5(fv2d_data_path/f\"run_{problem_name}_nodc.h5\", reshape=True) # fv2d outputs are 2D; we select only a slice along x"
   ]
  },
  {
   "cell_type": "code",
   "execution_count": null,
   "id": "7a92f56a",
   "metadata": {},
   "outputs": [],
   "source": [
    "def plot_attrs(attr, *, longname=None, title=\"Dai-Woodward Test\", savetowiki=False) -> None:\n",
    "    \"\"\" Plot the given attribute for all the data sets.\n",
    "    Parameters\n",
    "    ----------\n",
    "    attr : str\n",
    "        The attribute to plot.\n",
    "    longname : str\n",
    "        The long name of the attribute to plot, used for the $y$-axis.\n",
    "        If None, the attribute name will be used.\n",
    "    \"\"\"\n",
    "    plt.figure(figsize=(10, 10))\n",
    "    plt.plot(athena_data.x, getattr(athena_data, attr), '--k', label=\"Athena-hlld-vl2\")\n",
    "    plt.plot(fv2d_data.x, getattr(fv2d_data, attr), '--', label=\"FV2D-hlld-RK2\")\n",
    "    plt.plot(fv2d_data_5w.x, getattr(fv2d_data_5w, attr), '--', label=\"FV2D-5waves-RK2\")\n",
    "    plt.plot(fv2d_data_5we.x, getattr(fv2d_data_5we, attr), '--', label=\"FV2D-5waves-Euler\")\n",
    "    plt.plot(fv2d_data_e.x, getattr(fv2d_data_e, attr), '--', label=\"FV2D-hlld-Euler\")\n",
    "    plt.plot(fv2d_data_nodc.x, getattr(fv2d_data_nodc, attr), '--', label=\"FV2D-hlld-noDC\")\n",
    "    plt.title(title)\n",
    "    if longname is not None:\n",
    "        plt.ylabel(longname)\n",
    "    else:\n",
    "        plt.ylabel(attr)\n",
    "    plt.xlabel(\"x\")\n",
    "    plt.legend()\n",
    "    plt.grid()\n",
    "    if savetowiki:\n",
    "        plt.savefig(home/ f\"fvNd-unit-test.wiki/imgs/{problem_name}_{attr}.png\")\n",
    "    plt.show()"
   ]
  },
  {
   "cell_type": "code",
   "execution_count": null,
   "id": "ac5a318a",
   "metadata": {},
   "outputs": [],
   "source": [
    "save = True\n",
    "plot_attrs(\"rho\", longname=r\"$\\rho$\", savetowiki=save)\n",
    "plot_attrs(\"u\", longname=r\"$v_x$\", savetowiki=save)\n",
    "plot_attrs(\"v\", longname=r\"$v_y$\", savetowiki=save)\n",
    "plot_attrs(\"w\", longname=r\"$v_z$\", savetowiki=save)\n",
    "plot_attrs(\"p\", longname=r\"$P$\", savetowiki=save)\n",
    "#plot_attrs(\"Bx\", longname=r\"$B_x$\", savetowiki=save)\n",
    "plot_attrs(\"By\", longname=r\"$B_y$\", savetowiki=save)\n",
    "plot_attrs(\"Bz\", longname=r\"$B_z$\", savetowiki=save)"
   ]
  },
  {
   "cell_type": "markdown",
   "id": "e5484ecd",
   "metadata": {},
   "source": [
    "### Error Analysis"
   ]
  },
  {
   "cell_type": "code",
   "execution_count": null,
   "id": "70a7f95b",
   "metadata": {},
   "outputs": [],
   "source": [
    "from typing import Callable\n",
    "\n",
    "\n",
    "def absolute_error(y: np.ndarray, y_ref: np.ndarray, epsilon=1e-3) -> np.ndarray:\n",
    "    \"\"\" Compute the absolute error between two arrays.\n",
    "    Parameters\n",
    "    ----------\n",
    "    y : np.ndarray\n",
    "        The data to compare.\n",
    "    y_ref : np.ndarray\n",
    "        The reference data.\n",
    "    Returns\n",
    "    -------\n",
    "    np.ndarray\n",
    "        The absolute error between the two arrays.\n",
    "    \"\"\"\n",
    "    return np.abs(y - y_ref)\n",
    "\n",
    "\n",
    "def relative_error(y: np.ndarray, y_ref: np.ndarray, *, mixed_err=True, epsilon=1) -> np.ndarray:\n",
    "    \"\"\" Compute the relative error between two arrays.\n",
    "    Parameters\n",
    "    ----------\n",
    "    y : np.ndarray\n",
    "        The data to compare.\n",
    "    y_ref : np.ndarray\n",
    "        The reference data.\n",
    "    mixed_err : bool\n",
    "        Allow usage of a absolute error on zones where values are less than 1.\n",
    "    Returns\n",
    "    -------\n",
    "    np.ndarray\n",
    "        The relative error between the two arrays.\n",
    "    \"\"\"\n",
    "    abs_err = absolute_error(y, y_ref)\n",
    "    if mixed_err:\n",
    "        not_small_values = y_ref >= epsilon #and y > epsilon\n",
    "        abs_err[not_small_values] /= np.abs(y_ref[not_small_values])\n",
    "        return abs_err\n",
    "        #return np.where(np.abs(y_ref) < epsilon, absolute_error(y, y_ref), np.abs(y - y_ref) / np.abs(y_ref))\n",
    "    return abs_err / np.abs(y_ref)\n",
    "\n",
    "def plot_error(attr: str, *, longname: str=None, error_type: Callable = relative_error, norm_ord=2, epsilon=1, scale='log', savetowiki=False) -> None:\n",
    "    \"\"\" Plot the error between the data sets.\n",
    "    Parameters\n",
    "    ----------\n",
    "    attr : str\n",
    "        The attribute to plot.\n",
    "    longname : str\n",
    "        The long name of the attribute to plot, used for the $y$-axis.\n",
    "        If None, the attribute name will be used.\n",
    "    error_type : Callable\n",
    "        The error function to use. Can be either absolute_error or relative_error.\n",
    "    norm_ord : int\n",
    "        The order of the norm to use. Default is 2.\n",
    "    \"\"\"\n",
    "\n",
    "    plt.figure(figsize=(10, 10))\n",
    "    e1 = error_type(getattr(fv2d_data, attr), getattr(athena_data, attr), epsilon=epsilon)\n",
    "    e2 = error_type(getattr(fv2d_data_5w, attr), getattr(athena_data, attr), epsilon=epsilon)\n",
    "    e3 = error_type(getattr(fv2d_data_5we, attr), getattr(athena_data, attr), epsilon=epsilon)\n",
    "    e4 = error_type(getattr(fv2d_data_e, attr), getattr(athena_data, attr), epsilon=epsilon)\n",
    "    e5 = error_type(getattr(fv2d_data_nodc, attr), getattr(athena_data, attr), epsilon=epsilon)\n",
    "\n",
    "    plt.plot(fv2d_data.x, e1, '--', label=f\"FV2D-hlld-RK2, L{norm_ord}-norm= {np.linalg.norm(e1, ord=norm_ord)/len(e1):.2e}\")\n",
    "    plt.plot(fv2d_data.x, e2, '--', label=f\"FV2D-5waves-RK2, L{norm_ord}-norm= {np.linalg.norm(e2, ord=norm_ord)/len(e2):.2e}\")\n",
    "    plt.plot(fv2d_data.x, e3, '--', label=f\"FV2D-5waves-Euler, L{norm_ord}-norm= {np.linalg.norm(e3, ord=norm_ord)/len(e3):.2e}\")\n",
    "    plt.plot(fv2d_data.x, e4, '--', label=f\"FV2D-hlld-Euler, L{norm_ord}-norm= {np.linalg.norm(e4, ord=norm_ord)/len(e4):.2e}\")\n",
    "    plt.plot(fv2d_data.x, e5, '--', label=f\"FV2D-hlld-noDC, L{norm_ord}-norm= {np.linalg.norm(e5, ord=norm_ord)/len(e5):.2e}\")\n",
    "    plt.title(f\"Dai-Woodward - {error_type.__name__.replace('_', ' ').title()}\")\n",
    "    ymax = np.max(np.array([e1.max(), e2.max(), e3.max(), e4.max(), e5.max()]))\n",
    "    plt.ylim(1e-7, ymax)\n",
    "    if longname is not None:\n",
    "        plt.ylabel(longname)\n",
    "    else:\n",
    "        plt.ylabel(attr)\n",
    "    plt.xlabel(\"x\")\n",
    "    plt.yscale(scale)\n",
    "    plt.legend()\n",
    "    plt.grid()\n",
    "    if savetowiki:\n",
    "        plt.savefig(home/ f\"fvNd-unit-test.wiki/imgs/{problem_name}_err_{attr}.png\")\n",
    "    plt.show()"
   ]
  },
  {
   "cell_type": "code",
   "execution_count": null,
   "id": "4290eb7f",
   "metadata": {},
   "outputs": [],
   "source": [
    "save = True\n",
    "plot_error(\"rho\", longname=r\"$\\rho$\", error_type=absolute_error, savetowiki=save)\n",
    "plot_error(\"u\", longname=r\"$v_x$\", error_type=absolute_error, savetowiki=save)\n",
    "plot_error(\"v\", longname=r\"$v_y$\", error_type=absolute_error, savetowiki=save)\n",
    "plot_error(\"w\", longname=r\"$v_z$\", error_type=absolute_error, savetowiki=save)\n",
    "plot_error(\"p\", longname=r\"$P$\", error_type=absolute_error, savetowiki=save)\n",
    "plot_error(\"By\", longname=r\"$B_y$\", error_type=absolute_error, savetowiki=save)\n",
    "plot_error(\"By\", longname=r\"$B_y$\", error_type=absolute_error, savetowiki=save)"
   ]
  },
  {
   "cell_type": "markdown",
   "id": "0768ff1e",
   "metadata": {},
   "source": [
    "### Convergence Analysis\n",
    "\n",
    "Le but est ici de tester la convergence de nos différents solveurs selon la taille du maillage, i.e. le nombre de cellules. Nous choissisons de tester chaque solveurs pour les valeurs suivantes $Nx=32, 64, 128 , 256, 512$"
   ]
  },
  {
   "cell_type": "code",
   "execution_count": null,
   "id": "7ee7d659",
   "metadata": {},
   "outputs": [],
   "source": [
    "from datahandler import Fv2dCode, IniFile, AthenaCode\n",
    "from pathlib import Path\n",
    "home = Path().home() / \"Documents\""
   ]
  },
  {
   "cell_type": "code",
   "execution_count": null,
   "id": "ce67ace7",
   "metadata": {},
   "outputs": [],
   "source": [
    "# generate all the ini_files for the different tests\n",
    "original_ini = home/f\"fv2d/settings/{problem_name}.ini\"\n",
    "athena_ini = home/\"athena/inputs/mhd/athinput.rj2a\"\n",
    "for i in range(5, 10):\n",
    "    at_ini = IniFile(athena_ini, athena_fmt=True)\n",
    "    at_ini.set_param(\"mesh\", \"nx1\", 2**i)\n",
    "    at_ini.set_param(\"time\", \"cfl_number\", 0.4)\n",
    "    at_ini.set_param(\"time\", \"tlim\", 0.2)\n",
    "    at_ini.set_param(\"mesh\", \"x1max\", 1.1)\n",
    "    at_ini.set_param(\"mesh\", \"x1min\", 0.0)\n",
    "    at_ini.set_param(\"problem\", \"xshock\", 0.55) # position de l'interface initiale\n",
    "    b0 = 1/np.sqrt(4*np.pi)\n",
    "    at_ini.set_param(\"problem\", \"bxl\", f\"{b0*4:.16f}\") # athena prend b0*2 pour Bx\n",
    "    at_ini.set_param(\"problem\", \"bxr\", f\"{b0*4:.16f}\")\n",
    "    at_ini.set_param(\"job\", \"problem_id\", \"DaiWoodward\")\n",
    "    at_ini.write(f\"athinput_{2**i:04d}.rj2a\")\n",
    "    for solver in [\"hlld\", \"fivewaves\"]:\n",
    "        for time_stepping in [\"RK2\", \"euler\"]:\n",
    "            new_ini = f\"{problem_name}_{2**i:04d}_{solver}_{time_stepping}.ini\"\n",
    "            ini = IniFile(original_ini)\n",
    "            ini.set_param(\"mesh\", \"Nx\", 2**i)\n",
    "            ini.set_param(\"mesh\", \"Ny\", 1)\n",
    "            ini.set_param(\"solvers\", \"riemann_solver\", solver)\n",
    "            ini.set_param(\"solvers\", \"time_stepping\", time_stepping)\n",
    "            ini.set_param(\"solvers\", \"div_cleaning\", \"none\")\n",
    "            ini.set_param(\"solvers\", \"CFL\", 0.4)\n",
    "            ini.set_param(\"physics\", \"gamma0\", 5/3)\n",
    "            ini.write(new_ini)"
   ]
  },
  {
   "cell_type": "code",
   "execution_count": null,
   "id": "b0c4932d",
   "metadata": {},
   "outputs": [],
   "source": [
    "# Here we assume (we know) that the fv2d code is already compiled\n",
    "# and that the athena code is already compiled\n",
    "ath_output = Path('athena_output')\n",
    "for item in Path().glob(\"athinput_*.rj2a\"):\n",
    "    athena = AthenaCode(home/\"athena\")\n",
    "    this_output = ath_output / item.stem.replace(\"athinput_\", \"\")\n",
    "    this_output.mkdir(exist_ok=True, parents=True)\n",
    "    athena.run(inifile=item.name, destination=this_output)"
   ]
  },
  {
   "cell_type": "code",
   "execution_count": null,
   "id": "f9fa9f9b",
   "metadata": {},
   "outputs": [],
   "source": [
    "fv2d = Fv2dCode(base_path=home/\"fv2d\")\n",
    "# fv2d.compile()\n",
    "fv2d_output = Path('fv2d_output')\n",
    "files = list(sorted(Path().glob(f\"{problem_name}_*.ini\")))\n",
    "for i, item in enumerate(files):\n",
    "    nx = item.stem.split(\"_\")[2]\n",
    "    this_output = fv2d_output / nx\n",
    "    this_output.mkdir(exist_ok=True, parents=True)\n",
    "    fv2d.run(inifile=item.name, destination=this_output)"
   ]
  },
  {
   "cell_type": "code",
   "execution_count": null,
   "id": "565cba18",
   "metadata": {},
   "outputs": [],
   "source": [
    "from datahandler import Fv2DH5, AthenaTabular\n",
    "import numpy as np\n",
    "import matplotlib.pyplot as plt"
   ]
  },
  {
   "cell_type": "code",
   "execution_count": null,
   "id": "f8a5cc07",
   "metadata": {},
   "outputs": [],
   "source": [
    "athena_data = {}\n",
    "fv2d_data = {}\n",
    "errors = {\"-\".join(algo.split('_')[:-1]): [] for algo in fv2d_data}\n",
    "for i in range(5, 10):\n",
    "    dirname = Path(\"athena_output\") / f\"{2**i:04d}\"\n",
    "    item = list(sorted(dirname.glob(\"*.tab\")))[-1]\n",
    "    athena_data[f\"{2**i:04d}\"] = AthenaTabular(item)\n",
    "    athena_data[f\"{2**i:04d}\"].rescale() # by default on AThena is [-0.5, 0.5] and on fv2d is [0, 1]\n",
    "    item = list(sorted(Path(f\"fv2d_output/{2**i:04d}\").glob(\"*.h5\")))\n",
    "    fv2d_data[f\"{2**i:04d}\"] = [(str(it.stem), Fv2DH5(it, reshape=True)) for it in item]"
   ]
  },
  {
   "cell_type": "code",
   "execution_count": null,
   "id": "c5a86c1d",
   "metadata": {},
   "outputs": [],
   "source": [
    "errors = {\"-\".join(algo[0].split('_')[-2:]):[] for algo in list(fv2d_data.values())[0]}\n",
    "for i in range(5, 10):\n",
    "    nx = f\"{2**i:04d}\"\n",
    "    for algo, val in fv2d_data[nx]:\n",
    "        algo = \"-\".join(algo.split('_')[-2:]) # on veut rassembler les algo\n",
    "        err = np.linalg.norm(val.rho - athena_data[nx].rho, ord=2)/int(nx)\n",
    "        print(f\"error {algo} = {err:.2e}\")\n",
    "        errors[algo].append(err)"
   ]
  },
  {
   "cell_type": "code",
   "execution_count": null,
   "id": "6c2b4b5b",
   "metadata": {},
   "outputs": [],
   "source": [
    "plt.figure(figsize=(10, 10))\n",
    "nx_values = np.array([2**i for i in range(5, 10)])\n",
    "for algo, err in errors.items():\n",
    "    m, b = np.polyfit(np.log(nx_values), np.log(err), deg=1)\n",
    "    plt.plot(nx_values, err, '--o', label=fr\"{algo}: $\\log(err)={m:.2f}N_x{b:.2f}$\")\n",
    "plt.title(\"Dai and Woodward: Error Convergence\")\n",
    "\n",
    "O_x = errors[\"fivewaves-RK2\"][0] * (nx_values[0] / nx_values)\n",
    "O_x2 = errors[\"fivewaves-RK2\"][0] * (nx_values[0] / nx_values)**2  \n",
    "plt.plot(nx_values, O_x, ':', label=r\"$\\mathcal{O}(\\Delta x)$\")\n",
    "plt.plot(nx_values, O_x2, ':', label=r\"$\\mathcal{O}(\\Delta x^2)$\")\n",
    "\n",
    "plt.text(nx_values[-1], O_x2[-1], r\"$\\Delta x^2$\", fontsize=12)\n",
    "plt.text(nx_values[-1], O_x[-1], r\"$\\Delta x$\", fontsize=12)\n",
    "plt.xscale('log')\n",
    "plt.yscale('log')\n",
    "plt.xlabel(r\"$N_x$\")\n",
    "plt.ylabel(r\"$L^2$ error\")\n",
    "plt.legend()\n",
    "plt.grid()\n",
    "plt.show()"
   ]
  },
  {
   "cell_type": "code",
   "execution_count": null,
   "id": "c469f444-0c8f-47cd-922c-4b12e68eda93",
   "metadata": {},
   "outputs": [],
   "source": []
  }
 ],
 "metadata": {
  "kernelspec": {
   "display_name": "Python 3 (ipykernel)",
   "language": "python",
   "name": "python3"
  },
  "language_info": {
   "codemirror_mode": {
    "name": "ipython",
    "version": 3
   },
   "file_extension": ".py",
   "mimetype": "text/x-python",
   "name": "python",
   "nbconvert_exporter": "python",
   "pygments_lexer": "ipython3",
   "version": "3.13.1"
  }
 },
 "nbformat": 4,
 "nbformat_minor": 5
}
